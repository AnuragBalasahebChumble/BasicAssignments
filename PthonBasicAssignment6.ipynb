{
  "nbformat": 4,
  "nbformat_minor": 0,
  "metadata": {
    "colab": {
      "provenance": [],
      "authorship_tag": "ABX9TyMoZ0N8MX7uU7r2GqpwCoiy",
      "include_colab_link": true
    },
    "kernelspec": {
      "name": "python3",
      "display_name": "Python 3"
    },
    "language_info": {
      "name": "python"
    }
  },
  "cells": [
    {
      "cell_type": "markdown",
      "metadata": {
        "id": "view-in-github",
        "colab_type": "text"
      },
      "source": [
        "<a href=\"https://colab.research.google.com/github/AnuragBalasahebChumble/BasicAssignments/blob/main/PthonBasicAssignment6.ipynb\" target=\"_parent\"><img src=\"https://colab.research.google.com/assets/colab-badge.svg\" alt=\"Open In Colab\"/></a>"
      ]
    },
    {
      "cell_type": "markdown",
      "source": [
        "Q1. What are escape characters, and how do you use them?\n",
        "\n",
        ">Ans .  In Python strings, the backslash \"\\\" is a special character, also called the \"escape\" character. It is used in representing certain whitespace characters: \"\\t\" is a tab, \"\\n\" is a newline, and \"\\r\" is a carriage return\n"
      ],
      "metadata": {
        "id": "jd5JjbZef-2M"
      }
    },
    {
      "cell_type": "code",
      "source": [
        "print(\"\\tRAM\")\n",
        "print(\"Bajranbali ki Jai\\nBajranbali ki Jai\"  )"
      ],
      "metadata": {
        "colab": {
          "base_uri": "https://localhost:8080/"
        },
        "id": "f5d2OHbKgzED",
        "outputId": "43bd15c6-7215-4b9f-da3e-c1da9b9b18f7"
      },
      "execution_count": 5,
      "outputs": [
        {
          "output_type": "stream",
          "name": "stdout",
          "text": [
            "\tRAM\n",
            "Bajranbali ki Jai\n",
            "Bajranbali ki Jai\n"
          ]
        }
      ]
    },
    {
      "cell_type": "markdown",
      "source": [
        "Q2. What do the escape characters n and t stand for?\n",
        "\n",
        "\n",
        "> Ans . \"\\t\" is a tab, \"\\n\" is a newline charachters\n",
        "\n"
      ],
      "metadata": {
        "id": "f-D5QqGCgitR"
      }
    },
    {
      "cell_type": "code",
      "execution_count": 6,
      "metadata": {
        "colab": {
          "base_uri": "https://localhost:8080/"
        },
        "id": "l6A-WoxUf6IH",
        "outputId": "4e0aa3b6-3ddd-4f01-92b8-83b05d12496c"
      },
      "outputs": [
        {
          "output_type": "stream",
          "name": "stdout",
          "text": [
            "\tRAM\n",
            "Bajranbali ki Jai\n",
            "Bajranbali ki Jai\n"
          ]
        }
      ],
      "source": [
        "print(\"\\tRAM\")\n",
        "print(\"Bajranbali ki Jai\\nBajranbali ki Jai\"  )"
      ]
    },
    {
      "cell_type": "markdown",
      "source": [
        "Q3. What is the way to include backslash characters in a string?"
      ],
      "metadata": {
        "id": "hSR_s1QGh1j9"
      }
    },
    {
      "cell_type": "code",
      "source": [
        "print(\"Bajranbali ki Jai\\nBajranbali ki Jai\")"
      ],
      "metadata": {
        "colab": {
          "base_uri": "https://localhost:8080/"
        },
        "id": "Vu-yqK2ghyCH",
        "outputId": "c85ecc96-6c83-4409-e33f-1f5f0c5bbdc1"
      },
      "execution_count": 7,
      "outputs": [
        {
          "output_type": "stream",
          "name": "stdout",
          "text": [
            "Bajranbali ki Jai\n",
            "Bajranbali ki Jai\n"
          ]
        }
      ]
    },
    {
      "cell_type": "markdown",
      "source": [
        "Q4. The string \"Howl's Moving Castle\" is a correct value. Why isn't the single quote character in the word Howl's not escaped a problem?\n",
        "\n",
        "\n",
        "> Ans .  The single quote in Howl's is fine because you've used double quotes to mark the beginning and end of the string. like wise we can use double quotes in with single quotes\n",
        "\n"
      ],
      "metadata": {
        "id": "MijSlMOciJ3E"
      }
    },
    {
      "cell_type": "code",
      "source": [
        "\n",
        "print(\"HowI's Moving Castle\")"
      ],
      "metadata": {
        "colab": {
          "base_uri": "https://localhost:8080/"
        },
        "id": "ReaqUz-ph-Dm",
        "outputId": "885a2c14-a050-40f6-b9e2-12b9bc65f1bd"
      },
      "execution_count": 8,
      "outputs": [
        {
          "output_type": "stream",
          "name": "stdout",
          "text": [
            "HowI's Moving Castle\n"
          ]
        }
      ]
    },
    {
      "cell_type": "code",
      "source": [
        "# like wise we can use double quote in side single quote\n",
        "print('Bajranbali \"Ki\" Jai')"
      ],
      "metadata": {
        "colab": {
          "base_uri": "https://localhost:8080/"
        },
        "id": "gTuKOzn3idx9",
        "outputId": "6cbdaa13-0aa9-4e01-bdd1-33aff3593d49"
      },
      "execution_count": 9,
      "outputs": [
        {
          "output_type": "stream",
          "name": "stdout",
          "text": [
            "Bajranbali \"Ki\" Jai\n"
          ]
        }
      ]
    },
    {
      "cell_type": "markdown",
      "source": [
        "Q5. How do you write a string of newlines if you don't want to use the n character?"
      ],
      "metadata": {
        "id": "WFAO9zwOkNxd"
      }
    },
    {
      "cell_type": "code",
      "source": [
        "print(\"printing something in new line\",end = '\\n')\n",
        "print(\"newline\")     "
      ],
      "metadata": {
        "colab": {
          "base_uri": "https://localhost:8080/"
        },
        "id": "McoTi89wkJce",
        "outputId": "0d3269cf-a69c-44c0-ed36-e3703b9eae77"
      },
      "execution_count": 10,
      "outputs": [
        {
          "output_type": "stream",
          "name": "stdout",
          "text": [
            "printing something in new line\n",
            "newline\n"
          ]
        }
      ]
    },
    {
      "cell_type": "markdown",
      "source": [
        "Q6. What are the values of the given expressions?\n",
        "\n",
        "\n",
        "> 'Hello, world!'[1] 'Hello, world!'[0:5] 'Hello, world!'[:5] 'Hello, world!'[3:]\n",
        "\n"
      ],
      "metadata": {
        "id": "67by8VBwkdkE"
      }
    },
    {
      "cell_type": "code",
      "source": [
        "'Hello, world!'[1]"
      ],
      "metadata": {
        "colab": {
          "base_uri": "https://localhost:8080/",
          "height": 36
        },
        "id": "uIRtnx1ckWxX",
        "outputId": "5676f66b-28e4-40a4-c98f-02d3448f9490"
      },
      "execution_count": 11,
      "outputs": [
        {
          "output_type": "execute_result",
          "data": {
            "text/plain": [
              "'e'"
            ],
            "application/vnd.google.colaboratory.intrinsic+json": {
              "type": "string"
            }
          },
          "metadata": {},
          "execution_count": 11
        }
      ]
    },
    {
      "cell_type": "code",
      "source": [
        "'Hello, world!'[0:5]"
      ],
      "metadata": {
        "colab": {
          "base_uri": "https://localhost:8080/",
          "height": 36
        },
        "id": "IBmF0QsdkpUd",
        "outputId": "3430d005-cd45-4414-f602-87b9234d586e"
      },
      "execution_count": 12,
      "outputs": [
        {
          "output_type": "execute_result",
          "data": {
            "text/plain": [
              "'Hello'"
            ],
            "application/vnd.google.colaboratory.intrinsic+json": {
              "type": "string"
            }
          },
          "metadata": {},
          "execution_count": 12
        }
      ]
    },
    {
      "cell_type": "code",
      "source": [
        "'Hello, world!'[:5]"
      ],
      "metadata": {
        "colab": {
          "base_uri": "https://localhost:8080/",
          "height": 36
        },
        "id": "bgZ4wa6GkuVm",
        "outputId": "807cc766-788f-4e94-e575-6adc17585581"
      },
      "execution_count": 13,
      "outputs": [
        {
          "output_type": "execute_result",
          "data": {
            "text/plain": [
              "'Hello'"
            ],
            "application/vnd.google.colaboratory.intrinsic+json": {
              "type": "string"
            }
          },
          "metadata": {},
          "execution_count": 13
        }
      ]
    },
    {
      "cell_type": "code",
      "source": [
        "'Hello, world!'[3:]\n"
      ],
      "metadata": {
        "colab": {
          "base_uri": "https://localhost:8080/",
          "height": 36
        },
        "id": "rOXePexxk0cm",
        "outputId": "e22c2229-f093-4fc6-f004-1d8fe2e19ab9"
      },
      "execution_count": 14,
      "outputs": [
        {
          "output_type": "execute_result",
          "data": {
            "text/plain": [
              "'lo, world!'"
            ],
            "application/vnd.google.colaboratory.intrinsic+json": {
              "type": "string"
            }
          },
          "metadata": {},
          "execution_count": 14
        }
      ]
    },
    {
      "cell_type": "markdown",
      "source": [
        "Q7. What are the values of the following expressions?\n",
        "\n",
        "\n",
        "> 'Hello'.upper() 'Hello'.upper().isupper() 'Hello'.upper().lower()\n",
        "\n"
      ],
      "metadata": {
        "id": "22buYbD-k76M"
      }
    },
    {
      "cell_type": "code",
      "source": [
        "'Hello'.upper()"
      ],
      "metadata": {
        "colab": {
          "base_uri": "https://localhost:8080/",
          "height": 36
        },
        "id": "R15gJZogk30u",
        "outputId": "be9ee2a8-bf58-419c-9b2c-2dc36a22aec3"
      },
      "execution_count": 16,
      "outputs": [
        {
          "output_type": "execute_result",
          "data": {
            "text/plain": [
              "'HELLO'"
            ],
            "application/vnd.google.colaboratory.intrinsic+json": {
              "type": "string"
            }
          },
          "metadata": {},
          "execution_count": 16
        }
      ]
    },
    {
      "cell_type": "code",
      "source": [
        "'Hello'.upper().isupper()\n"
      ],
      "metadata": {
        "colab": {
          "base_uri": "https://localhost:8080/"
        },
        "id": "huNLoiutlEO0",
        "outputId": "ecba16ce-ec2e-4ef1-c183-3f40cb3b00fe"
      },
      "execution_count": 17,
      "outputs": [
        {
          "output_type": "execute_result",
          "data": {
            "text/plain": [
              "True"
            ]
          },
          "metadata": {},
          "execution_count": 17
        }
      ]
    },
    {
      "cell_type": "code",
      "source": [
        "\n",
        "'Hello'.upper().lower()"
      ],
      "metadata": {
        "colab": {
          "base_uri": "https://localhost:8080/",
          "height": 36
        },
        "id": "4ITcipq0lIBs",
        "outputId": "02edbc65-e1ca-48c7-8109-dc972719db54"
      },
      "execution_count": 18,
      "outputs": [
        {
          "output_type": "execute_result",
          "data": {
            "text/plain": [
              "'hello'"
            ],
            "application/vnd.google.colaboratory.intrinsic+json": {
              "type": "string"
            }
          },
          "metadata": {},
          "execution_count": 18
        }
      ]
    },
    {
      "cell_type": "markdown",
      "source": [
        "8. What are the values of the following expressions?\n",
        "\n",
        "> 'Remember, remember, the fifth of July.'.split() '-'.join('There can only one.'.split())\n",
        "\n",
        "\n"
      ],
      "metadata": {
        "id": "KaqrVs2clNly"
      }
    },
    {
      "cell_type": "code",
      "source": [
        "\n",
        "'Remember, remember, the fifth of July.'.split()\n"
      ],
      "metadata": {
        "colab": {
          "base_uri": "https://localhost:8080/"
        },
        "id": "VKhyr8pplJv2",
        "outputId": "d4925a6a-1e4f-4737-d805-f6240ceb438a"
      },
      "execution_count": 19,
      "outputs": [
        {
          "output_type": "execute_result",
          "data": {
            "text/plain": [
              "['Remember,', 'remember,', 'the', 'fifth', 'of', 'July.']"
            ]
          },
          "metadata": {},
          "execution_count": 19
        }
      ]
    },
    {
      "cell_type": "code",
      "source": [
        "\n",
        "'-'.join('There can only one.'.split())\n"
      ],
      "metadata": {
        "colab": {
          "base_uri": "https://localhost:8080/",
          "height": 36
        },
        "id": "bDBaYZITlXNU",
        "outputId": "ac491cfb-75d7-440e-8e13-b73a1ede9d91"
      },
      "execution_count": 20,
      "outputs": [
        {
          "output_type": "execute_result",
          "data": {
            "text/plain": [
              "'There-can-only-one.'"
            ],
            "application/vnd.google.colaboratory.intrinsic+json": {
              "type": "string"
            }
          },
          "metadata": {},
          "execution_count": 20
        }
      ]
    },
    {
      "cell_type": "markdown",
      "source": [
        "Q9. What are the methods for right-justifying, left-justifying, and centering a string? "
      ],
      "metadata": {
        "id": "KKM-q_o1lnbg"
      }
    },
    {
      "cell_type": "code",
      "source": [
        "# left justified\n",
        "str =\"Shiva\"\n",
        "str.ljust(10,\"-\")"
      ],
      "metadata": {
        "colab": {
          "base_uri": "https://localhost:8080/",
          "height": 36
        },
        "id": "QMuwlT4Oleeb",
        "outputId": "abd22ddc-c7d0-4387-a29a-0289ca40418b"
      },
      "execution_count": 21,
      "outputs": [
        {
          "output_type": "execute_result",
          "data": {
            "text/plain": [
              "'Shiva-----'"
            ],
            "application/vnd.google.colaboratory.intrinsic+json": {
              "type": "string"
            }
          },
          "metadata": {},
          "execution_count": 21
        }
      ]
    },
    {
      "cell_type": "code",
      "source": [
        "# right justified\n",
        "str =\"My name is\"\n",
        "str.rjust(40,'*')\n",
        "     "
      ],
      "metadata": {
        "colab": {
          "base_uri": "https://localhost:8080/",
          "height": 36
        },
        "id": "zryVpeLplryr",
        "outputId": "a29d7bf8-ce60-46ca-e241-ee5babb88bdf"
      },
      "execution_count": 22,
      "outputs": [
        {
          "output_type": "execute_result",
          "data": {
            "text/plain": [
              "'******************************My name is'"
            ],
            "application/vnd.google.colaboratory.intrinsic+json": {
              "type": "string"
            }
          },
          "metadata": {},
          "execution_count": 22
        }
      ]
    },
    {
      "cell_type": "code",
      "source": [
        "\n",
        "# center justified\n",
        "str =\"My name is\"\n",
        "str.center(40,'*')"
      ],
      "metadata": {
        "colab": {
          "base_uri": "https://localhost:8080/",
          "height": 36
        },
        "id": "tjTrWi0CnA1P",
        "outputId": "3dbf3e7f-4f03-48e0-d259-cb5540bdf334"
      },
      "execution_count": 23,
      "outputs": [
        {
          "output_type": "execute_result",
          "data": {
            "text/plain": [
              "'***************My name is***************'"
            ],
            "application/vnd.google.colaboratory.intrinsic+json": {
              "type": "string"
            }
          },
          "metadata": {},
          "execution_count": 23
        }
      ]
    },
    {
      "cell_type": "markdown",
      "source": [
        "Q10. What is the best way to remove whitespace characters from the start or end?"
      ],
      "metadata": {
        "id": "-IUMOKDjnL7-"
      }
    },
    {
      "cell_type": "code",
      "source": [
        "\n",
        "str =\"  gfgfgfgfgfgfgf yuyuyuuyuy  \"\n",
        "str.lstrip()\n",
        "     "
      ],
      "metadata": {
        "colab": {
          "base_uri": "https://localhost:8080/",
          "height": 36
        },
        "id": "om7D-ZtfnIKu",
        "outputId": "35849bcf-73c6-4a50-88fe-88d4e4d04831"
      },
      "execution_count": 24,
      "outputs": [
        {
          "output_type": "execute_result",
          "data": {
            "text/plain": [
              "'gfgfgfgfgfgfgf yuyuyuuyuy  '"
            ],
            "application/vnd.google.colaboratory.intrinsic+json": {
              "type": "string"
            }
          },
          "metadata": {},
          "execution_count": 24
        }
      ]
    },
    {
      "cell_type": "code",
      "source": [
        "\n",
        "str =\"  yytytytyyt mmamamam  \"\n",
        "str.rstrip()"
      ],
      "metadata": {
        "colab": {
          "base_uri": "https://localhost:8080/",
          "height": 36
        },
        "id": "vYkHyRj2nPv-",
        "outputId": "ead14c16-6a33-4f31-e38a-687f461fd022"
      },
      "execution_count": 25,
      "outputs": [
        {
          "output_type": "execute_result",
          "data": {
            "text/plain": [
              "'  yytytytyyt mmamamam'"
            ],
            "application/vnd.google.colaboratory.intrinsic+json": {
              "type": "string"
            }
          },
          "metadata": {},
          "execution_count": 25
        }
      ]
    },
    {
      "cell_type": "code",
      "source": [
        "\n",
        "str =\"  yytytytyyt mmamamam  \"\n",
        "str.strip()"
      ],
      "metadata": {
        "colab": {
          "base_uri": "https://localhost:8080/",
          "height": 36
        },
        "id": "n1GcMbafnRuv",
        "outputId": "a4ba11c9-a5c0-4de1-bfc2-035f96ad1cc5"
      },
      "execution_count": 26,
      "outputs": [
        {
          "output_type": "execute_result",
          "data": {
            "text/plain": [
              "'yytytytyyt mmamamam'"
            ],
            "application/vnd.google.colaboratory.intrinsic+json": {
              "type": "string"
            }
          },
          "metadata": {},
          "execution_count": 26
        }
      ]
    },
    {
      "cell_type": "code",
      "source": [],
      "metadata": {
        "id": "ih-Kymh7nUze"
      },
      "execution_count": null,
      "outputs": []
    }
  ]
}