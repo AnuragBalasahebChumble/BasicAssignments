{
  "nbformat": 4,
  "nbformat_minor": 0,
  "metadata": {
    "colab": {
      "provenance": [],
      "authorship_tag": "ABX9TyO6hx/N7823eyM2/NNyVGIk",
      "include_colab_link": true
    },
    "kernelspec": {
      "name": "python3",
      "display_name": "Python 3"
    },
    "language_info": {
      "name": "python"
    }
  },
  "cells": [
    {
      "cell_type": "markdown",
      "metadata": {
        "id": "view-in-github",
        "colab_type": "text"
      },
      "source": [
        "<a href=\"https://colab.research.google.com/github/AnuragBalasahebChumble/BasicAssignments/blob/main/PythonAssignment6.ipynb\" target=\"_parent\"><img src=\"https://colab.research.google.com/assets/colab-badge.svg\" alt=\"Open In Colab\"/></a>"
      ]
    },
    {
      "cell_type": "markdown",
      "source": [
        "Q.1. What are keywords in python? Using the keyword library, print all the python keywords."
      ],
      "metadata": {
        "id": "cucorvsjr87n"
      }
    },
    {
      "cell_type": "code",
      "execution_count": 3,
      "metadata": {
        "colab": {
          "base_uri": "https://localhost:8080/"
        },
        "id": "746IB6AlrhjR",
        "outputId": "f1d2c789-c077-448a-eec2-a571915c59a4"
      },
      "outputs": [
        {
          "output_type": "stream",
          "name": "stdout",
          "text": [
            "['False', 'None', 'True', 'and', 'as', 'assert', 'async', 'await', 'break', 'class', 'continue', 'def', 'del', 'elif', 'else', 'except', 'finally', 'for', 'from', 'global', 'if', 'import', 'in', 'is', 'lambda', 'nonlocal', 'not', 'or', 'pass', 'raise', 'return', 'try', 'while', 'with', 'yield']\n",
            "Total number of keywords available are 35\n"
          ]
        }
      ],
      "source": [
        "import keyword\n",
        "\n",
        "all_keywords = keyword.kwlist\n",
        "print(all_keywords)\n",
        "print(f\"Total number of keywords available are {len(all_keywords)}\")"
      ]
    },
    {
      "cell_type": "markdown",
      "source": [
        "Q.2. What are the rules to create variables in python?\n",
        "\n",
        "- In Python, variables are used to store data values. Here are the rules for creating variables in Python:\n",
        "\n",
        "- Variable Names: Variable names in Python can consist of letters (a-z, A-Z), - digits (0-9), and underscores (_). However, the variable name cannot start with a digit.\n",
        "\n",
        "- Case-Sensitivity: Python is case-sensitive, so variable names like \"myVar\" and \"myvar\" are considered different.\n",
        "\n",
        "- Reserved Keywords: You cannot use reserved keywords as variable names since they have predefined meanings in Python. For example, \"if,\" \"for,\" \"while,\" and \"print\" are reserved keywords.\n",
        "\n",
        "- Valid Examples: Valid variable names can include combinations of letters, digits, and underscores. Some examples of valid variable names are \"my_var,\" \"number1,\" and \"total_sum.\"\n",
        "\n",
        "- Descriptive Names: It is good practice to use descriptive and meaningful names for variables. This helps in understanding the purpose or content of the variable.\n",
        "\n",
        "- Avoiding Built-in Names: It's generally recommended to avoid using names that conflict with built-in functions or modules. For example, avoid naming a variable \"list\" as it would conflict with the built-in list type.\n"
      ],
      "metadata": {
        "id": "ktV-4OJhsAvt"
      }
    },
    {
      "cell_type": "markdown",
      "source": [
        "Q.3. What are the standards and conventions followed for the nomenclature of variables in python to improve code readability and maintainability?\n",
        "\n",
        "- In Python, there are widely accepted standards and conventions for naming variables that help improve code readability and maintainability. The most commonly followed conventions are outlined below:\n",
        "\n",
        "- Use descriptive names: Variable names should be descriptive and convey the purpose or content of the variable. This helps other programmers (including your future self) understand the code better. For example, instead of using a generic name like x, use a more descriptive name like num_students or average_score.\n",
        "\n",
        "- Use lowercase with underscores: Python conventionally uses lowercase letters with underscores to separate words in variable names. This is known as \"snake_case\". For example, total_score, student_name, and is_valid are all valid snake_case variable names.\n",
        "\n",
        "- Avoid using single characters: While it is technically allowed to use single-character variable names, it's generally recommended to avoid them unless they have a well-established meaning in the domain. Using descriptive names helps make the code more self-explanatory.\n",
        "\n",
        "- Be consistent and meaningful: Maintain consistency in your naming conventions throughout your codebase. Choose meaningful and related names for variables to maintain clarity. For example, if you have variables related to a customer, use names like customer_id, customer_name, and customer_address rather than mixing different terms like cust_id, cname, and cust_add.\n",
        "\n",
        "- Follow PEP 8 guidelines: PEP 8 is the official style guide for Python code. It provides recommendations on various aspects of code style, including variable naming. It suggests using lowercase letters with underscores for variable names, except for some specific cases like constants or class names. Adhering to PEP 8 guidelines helps make your code more consistent and readable for other Python developers.\n",
        "\n",
        "- Avoid using reserved keywords: Ensure that your variable names do not conflict with Python's reserved keywords. Using reserved keywords as variable names can lead to syntax errors. For example, avoid naming a variable print or for.\n",
        "\n",
        "- By following these standards and conventions, you can write code that is more readable, maintainable, and consistent. It also helps improve collaboration with other programmers and makes your code easier to understand and debug."
      ],
      "metadata": {
        "id": "zqYoJALnslPV"
      }
    },
    {
      "cell_type": "markdown",
      "source": [
        "Q.4. What will happen if a keyword is used as a variable name?\n",
        "\n"
      ],
      "metadata": {
        "id": "vxKSRNTbtUkr"
      }
    },
    {
      "cell_type": "code",
      "source": [
        "# You will encounter Syntax Error\n",
        "\n",
        "if = 10"
      ],
      "metadata": {
        "colab": {
          "base_uri": "https://localhost:8080/",
          "height": 135
        },
        "id": "RRvh8uMwro9v",
        "outputId": "1bd22679-854b-41ba-cde8-79420b9d44a6"
      },
      "execution_count": 4,
      "outputs": [
        {
          "output_type": "error",
          "ename": "SyntaxError",
          "evalue": "ignored",
          "traceback": [
            "\u001b[0;36m  File \u001b[0;32m\"<ipython-input-4-cf904893a1c0>\"\u001b[0;36m, line \u001b[0;32m3\u001b[0m\n\u001b[0;31m    if = 10\u001b[0m\n\u001b[0m       ^\u001b[0m\n\u001b[0;31mSyntaxError\u001b[0m\u001b[0;31m:\u001b[0m invalid syntax\n"
          ]
        }
      ]
    },
    {
      "cell_type": "markdown",
      "source": [
        "Q5. For what purpose def keyword is used?\n",
        "\n",
        "- It is use to create a function."
      ],
      "metadata": {
        "id": "eQsazLVdtmsZ"
      }
    },
    {
      "cell_type": "code",
      "source": [
        "def greet(name):\n",
        "    print(\"Hello, \" + name + \"!\")\n",
        "\n",
        "greet(\"Alice\")"
      ],
      "metadata": {
        "colab": {
          "base_uri": "https://localhost:8080/"
        },
        "id": "ERufVqeRtjwt",
        "outputId": "b5fa7f05-20ee-46fc-bbfc-56f477014644"
      },
      "execution_count": 5,
      "outputs": [
        {
          "output_type": "stream",
          "name": "stdout",
          "text": [
            "Hello, Alice!\n"
          ]
        }
      ]
    },
    {
      "cell_type": "markdown",
      "source": [
        "Q.6. What is the operation of this special character ‘\\’?\n",
        "- The special character \\ in Python is known as the backslash or escape character. It is used to perform various operations and represent special characters within strings and other contexts. Here are some common uses of the backslash character:\n",
        "1.  \\' represents a single quote character.\n",
        "2.  \\\" represents a double quote character.\n",
        "3.  \\\\ represents a backslash itself.\n",
        "4.  \\n represents a newline character.\n",
        "5.  \\t represents a tab character.\n",
        "6.  \\r represents a carriage return character.\n",
        "7.  \\b represents a backspace character.\n",
        "8.  \\uXXXX represents a Unicode character specified by its hexadecimal code (XXXX).\n"
      ],
      "metadata": {
        "id": "NaOAHOxfuHsv"
      }
    },
    {
      "cell_type": "markdown",
      "source": [
        "Q.7. Give an example of the following conditions:\n",
        "(i) Homogeneous list\n",
        "(ii) Heterogeneous set\n",
        "(iii) Homogeneous tuple"
      ],
      "metadata": {
        "id": "pG0e6vzwvoIQ"
      }
    },
    {
      "cell_type": "code",
      "source": [
        "# Homogeneous list\n",
        "numbers = [1, 2, 3, 4, 5]\n"
      ],
      "metadata": {
        "id": "yI5dhuKjtwRb"
      },
      "execution_count": 11,
      "outputs": []
    },
    {
      "cell_type": "code",
      "source": [
        "# Heterogeneous set\n",
        "my_set = set([1, \"hello\", 3.14, True])"
      ],
      "metadata": {
        "id": "3kqug4MfuYFy"
      },
      "execution_count": 13,
      "outputs": []
    },
    {
      "cell_type": "code",
      "source": [
        "# Homogeneus tuple\n",
        "my_tuple = (1, 2, 3, 4, 5)"
      ],
      "metadata": {
        "id": "Gfo-LmxXuZ35"
      },
      "execution_count": 14,
      "outputs": []
    },
    {
      "cell_type": "markdown",
      "source": [
        "Q.8. Explain the mutable and immutable data types with proper explanation & examples.\n",
        "\n",
        "\n",
        "- In programming, data types can be classified as either mutable or immutable based on whether their values can be changed after they are created. Here's an explanation of mutable and immutable data types, along with examples:\n",
        "\n",
        "Mutable Data Types:\n",
        "\n",
        "- Mutable data types can be modified or changed after they are created.\n",
        "When you modify a mutable object, you are actually changing its internal state without creating a new object with different memory allocation.\n",
        "Examples of mutable data types in Python include lists, dictionaries, and sets.\n",
        "\n",
        "Immutable Data Types:\n",
        "\n",
        "- Immutable data types, on the other hand, cannot be modified after they are created.\n",
        "- When you modify an immutable object, you actually create a new object with different memory allocation and content.\n",
        "Examples of immutable data types in Python include strings, numbers (integers, floats), and tuples."
      ],
      "metadata": {
        "id": "qoW8AiSzwVBb"
      }
    },
    {
      "cell_type": "code",
      "source": [
        "# Example of a mutable list\n",
        "my_list = [1, 2, 3]\n",
        "my_list.append(4)\n",
        "print(my_list)  # Output: [1, 2, 3, 4]\n",
        "\n",
        "# Example of a mutable dictionary\n",
        "my_dict = {'key': 'value'}\n",
        "my_dict['key'] = 'new value'\n",
        "print(my_dict)  # Output: {'key': 'new value'}"
      ],
      "metadata": {
        "colab": {
          "base_uri": "https://localhost:8080/"
        },
        "id": "HKWN7E2_wMN0",
        "outputId": "aba4912c-83d6-455d-ffb6-20bfc4cb7cc5"
      },
      "execution_count": 15,
      "outputs": [
        {
          "output_type": "stream",
          "name": "stdout",
          "text": [
            "[1, 2, 3, 4]\n",
            "{'key': 'new value'}\n"
          ]
        }
      ]
    },
    {
      "cell_type": "code",
      "source": [
        "# Example of an immutable string\n",
        "my_string = \"Hello\"\n",
        "new_string = my_string + \", World!\"\n",
        "print(new_string)  # Output: \"Hello, World!\"\n",
        "\n",
        "# Example of an immutable tuple\n",
        "my_tuple = (1, 2, 3)\n",
        "new_tuple = my_tuple + (4,)\n",
        "print(new_tuple)  # Output: (1, 2, 3, 4)"
      ],
      "metadata": {
        "colab": {
          "base_uri": "https://localhost:8080/"
        },
        "id": "X1w_Tk2qwrJj",
        "outputId": "ee49ecd4-ed9c-42b2-b3c6-c60ab9e58735"
      },
      "execution_count": 16,
      "outputs": [
        {
          "output_type": "stream",
          "name": "stdout",
          "text": [
            "Hello, World!\n",
            "(1, 2, 3, 4)\n"
          ]
        }
      ]
    },
    {
      "cell_type": "markdown",
      "source": [
        "Q.9. Write a code to create the given structure using only for loop.\n"
      ],
      "metadata": {
        "id": "9nZAnf5OxXLX"
      }
    },
    {
      "cell_type": "code",
      "source": [
        "rows = int(input(\"Enter the number of rows : \"))\n",
        "rows *= 2\n",
        "centre = rows - 1\n",
        "k = []\n",
        "for i in range(rows):\n",
        "  if i % 2 != 0:\n",
        "    k.append(i)\n",
        "for i in range(rows):\n",
        "  print(\" \" * centre, end = \" \")\n",
        "  for j in range(i+1):\n",
        "    if i in k:\n",
        "      continue\n",
        "    print('*', end=\" \")\n",
        "  centre -=1  \n",
        "  print()\n"
      ],
      "metadata": {
        "colab": {
          "base_uri": "https://localhost:8080/"
        },
        "id": "H3pBPA28xxEI",
        "outputId": "70cc79d1-9431-4bfc-a650-9443bfd0d6ba"
      },
      "execution_count": 91,
      "outputs": [
        {
          "output_type": "stream",
          "name": "stdout",
          "text": [
            "Enter the number of rows : 4\n",
            "        * \n",
            "       \n",
            "      * * * \n",
            "     \n",
            "    * * * * * \n",
            "   \n",
            "  * * * * * * * \n",
            " \n"
          ]
        }
      ]
    },
    {
      "cell_type": "markdown",
      "source": [
        "Q.10. Write a code to create the given structure using while loop."
      ],
      "metadata": {
        "id": "2f2o1nClM_E1"
      }
    },
    {
      "cell_type": "code",
      "source": [
        "x = 4\n",
        "y = 0\n",
        "i = 0\n",
        "while x > 0:\n",
        "  print('|' * x)\n",
        "  print(' ' * i, end=' ')\n",
        "  x -=1\n",
        "  i +=1\n"
      ],
      "metadata": {
        "colab": {
          "base_uri": "https://localhost:8080/"
        },
        "id": "KGXxVCxc48lB",
        "outputId": "d4e92ae5-3b67-4c45-b63f-fe7c7edd590c"
      },
      "execution_count": 100,
      "outputs": [
        {
          "output_type": "stream",
          "name": "stdout",
          "text": [
            "||||\n",
            " |||\n",
            "  ||\n",
            "   |\n",
            "    "
          ]
        }
      ]
    },
    {
      "cell_type": "code",
      "source": [],
      "metadata": {
        "id": "daMbPhVKNhAM"
      },
      "execution_count": null,
      "outputs": []
    }
  ]
}