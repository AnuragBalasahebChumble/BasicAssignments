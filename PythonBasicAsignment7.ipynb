{
  "nbformat": 4,
  "nbformat_minor": 0,
  "metadata": {
    "colab": {
      "provenance": [],
      "authorship_tag": "ABX9TyM82aR6OwOZkX205IyGU1RX",
      "include_colab_link": true
    },
    "kernelspec": {
      "name": "python3",
      "display_name": "Python 3"
    },
    "language_info": {
      "name": "python"
    }
  },
  "cells": [
    {
      "cell_type": "markdown",
      "metadata": {
        "id": "view-in-github",
        "colab_type": "text"
      },
      "source": [
        "<a href=\"https://colab.research.google.com/github/AnuragBalasahebChumble/BasicAssignments/blob/main/PythonBasicAsignment7.ipynb\" target=\"_parent\"><img src=\"https://colab.research.google.com/assets/colab-badge.svg\" alt=\"Open In Colab\"/></a>"
      ]
    },
    {
      "cell_type": "markdown",
      "source": [
        "Q1. Write a Python Program to Add Two Matrices?"
      ],
      "metadata": {
        "id": "nl9BnEy01fy0"
      }
    },
    {
      "cell_type": "code",
      "execution_count": 2,
      "metadata": {
        "colab": {
          "base_uri": "https://localhost:8080/"
        },
        "id": "xWNPPSsIoezL",
        "outputId": "1282a555-2851-4996-a507-8944e3b63b21"
      },
      "outputs": [
        {
          "output_type": "stream",
          "name": "stdout",
          "text": [
            "The Sum of two matrix \n",
            "\n",
            "[[1 1 1]\n",
            " [2 2 2]\n",
            " [3 3 3]]  and \n",
            "\n",
            "[[0 0 0]\n",
            " [1 1 1]\n",
            " [2 2 2]]  is \n",
            "\n",
            "[[1 1 1]\n",
            " [3 3 3]\n",
            " [5 5 5]] \n"
          ]
        }
      ],
      "source": [
        "import numpy as np\n",
        "\n",
        "mat1 = np.array([[1,1,1],\n",
        "        [2,2,2],\n",
        "        [3,3,3]])\n",
        "mat2 = np.array([[0,0,0],\n",
        "        [1,1,1],\n",
        "        [2,2,2]])\n",
        "\n",
        "Matsum = np.add(mat1,mat2)\n",
        "\n",
        "print(f\"The Sum of two matrix \\n\\n{mat1}  and \\n\\n{mat2}  is \\n\\n{Matsum} \")"
      ]
    },
    {
      "cell_type": "markdown",
      "source": [
        "Q2. Write a Python Program to Multiply Two Matrices?"
      ],
      "metadata": {
        "id": "3LU-xZVB53ah"
      }
    },
    {
      "cell_type": "code",
      "source": [
        "mat1 = np.array([[1,1,1],\n",
        "        [2,2,2],\n",
        "        [3,3,3]])\n",
        "mat2 = np.array([[0,0,0],\n",
        "        [1,1,1],\n",
        "        [2,2,2]])\n",
        "\n",
        "matMul = np.dot(mat1,mat2)\n",
        "\n",
        "print(f\"The Sum of two matrix \\n\\n{mat1}  and \\n\\n{mat2}  is \\n\\n{matMul} \")"
      ],
      "metadata": {
        "colab": {
          "base_uri": "https://localhost:8080/"
        },
        "id": "9YwnhANA2ALU",
        "outputId": "844ab6d7-b884-41c7-e18f-80fe9b4d1618"
      },
      "execution_count": 5,
      "outputs": [
        {
          "output_type": "stream",
          "name": "stdout",
          "text": [
            "The Sum of two matrix \n",
            "\n",
            "[[1 1 1]\n",
            " [2 2 2]\n",
            " [3 3 3]]  and \n",
            "\n",
            "[[0 0 0]\n",
            " [1 1 1]\n",
            " [2 2 2]]  is \n",
            "\n",
            "[[3 3 3]\n",
            " [6 6 6]\n",
            " [9 9 9]] \n"
          ]
        }
      ]
    },
    {
      "cell_type": "markdown",
      "source": [
        "Q3. Write a Python Program to Transpose a Matrix?"
      ],
      "metadata": {
        "id": "vd2yP_fy6sRa"
      }
    },
    {
      "cell_type": "code",
      "source": [
        "def Matrix(n,v=0):\n",
        "    M=[]             \n",
        "    for i in range(n):\n",
        "        \n",
        "        row =[]\n",
        "        for j in range(n):\n",
        "            row.append(v)\n",
        "        M.append(row)\n",
        "    return(M)\n",
        "\n",
        "def crMatrix(n):\n",
        "    \n",
        "    M=[]             \n",
        "    print(\"Enter the element :\")\n",
        "    for i in range(n):\n",
        "        #stor row\n",
        "        row =[]\n",
        "        for j in range(n):\n",
        "            row.append(int(input()))\n",
        "        M.append(row)\n",
        "    return(M)\n",
        "\n",
        "def prMatrix(M,n):\n",
        "    for i in range(n):\n",
        "        for j in range(n):\n",
        "            print(M[i][j], end=\" \")\n",
        "        print() \n",
        "\n",
        "def tpMatrix(M,n,result):\n",
        "    for i in range(n):\n",
        "        for j in range(n):\n",
        "            result[i][j]= M[j][i]\n",
        "    return result\n",
        "\n",
        "n=int(input(\"Enter N for N x N matrix: \"))       \n",
        "M1 = crMatrix(n)\n",
        "\n",
        "print(\"Display Array M1 In Matrix Form\")\n",
        "prMatrix(M1,n)\n",
        "\n",
        "result = Matrix(n)\n",
        "result = tpMatrix(M1,n,result)\n",
        "print(\"Transposed Matrix\")\n",
        "for r in result:\n",
        "    print(r)  "
      ],
      "metadata": {
        "id": "tBNUF2XP6F1Q"
      },
      "execution_count": null,
      "outputs": []
    },
    {
      "cell_type": "markdown",
      "source": [
        "Q4. Write a Python Program to Sort Words in Alphabetic Order?"
      ],
      "metadata": {
        "id": "K2cP_xn17EqP"
      }
    },
    {
      "cell_type": "code",
      "source": [
        "Arr = input(\"Enter string: \")\n",
        "\n",
        "words = Arr.split()\n",
        "words.sort()\n",
        "for word in words:\n",
        "    print(word)"
      ],
      "metadata": {
        "colab": {
          "base_uri": "https://localhost:8080/"
        },
        "id": "WsJ8kb7-61v7",
        "outputId": "feee66de-6631-43be-d6d0-6080e155a41a"
      },
      "execution_count": 31,
      "outputs": [
        {
          "output_type": "stream",
          "name": "stdout",
          "text": [
            "Enter string: Bajrang Bali\n",
            "Bajrang\n",
            "Bali\n"
          ]
        }
      ]
    },
    {
      "cell_type": "markdown",
      "source": [
        "Q5. Write a Python Program to Remove Punctuation From a String?"
      ],
      "metadata": {
        "id": "vPU4--bHcgJ4"
      }
    },
    {
      "cell_type": "code",
      "source": [
        "\n",
        "punctuations = '''!()-[]{};:'\"\\,<>./?@#$%^&*_~'''\n",
        "\n",
        "Arr = input(\"Enter a string with punctuations\")\n",
        "\n",
        "\n",
        "rem_punc = \"\"\n",
        "for i in Arr:\n",
        "    if i not in punctuations:\n",
        "        rem_punc = rem_punc + i\n",
        "\n",
        "# display \n",
        "print(rem_punc)"
      ],
      "metadata": {
        "colab": {
          "base_uri": "https://localhost:8080/"
        },
        "id": "INtP9Jys7PbJ",
        "outputId": "7145a962-3d2f-4521-97ff-0acb6f977974"
      },
      "execution_count": 1,
      "outputs": [
        {
          "output_type": "stream",
          "name": "stdout",
          "text": [
            "Enter a string with punctuations!()anurag@3\n",
            "anurag3\n"
          ]
        }
      ]
    },
    {
      "cell_type": "code",
      "source": [],
      "metadata": {
        "id": "IqybM9Rc76Po"
      },
      "execution_count": 1,
      "outputs": []
    },
    {
      "cell_type": "code",
      "source": [],
      "metadata": {
        "id": "rPny3SR08Ygv"
      },
      "execution_count": 28,
      "outputs": []
    },
    {
      "cell_type": "code",
      "source": [],
      "metadata": {
        "id": "TakIUTMc9AHe"
      },
      "execution_count": null,
      "outputs": []
    }
  ]
}