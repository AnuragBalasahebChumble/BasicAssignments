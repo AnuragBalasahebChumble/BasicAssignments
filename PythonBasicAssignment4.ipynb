{
  "nbformat": 4,
  "nbformat_minor": 0,
  "metadata": {
    "colab": {
      "provenance": [],
      "authorship_tag": "ABX9TyOkCPq282RHBZRrxtR8ZGOE",
      "include_colab_link": true
    },
    "kernelspec": {
      "name": "python3",
      "display_name": "Python 3"
    },
    "language_info": {
      "name": "python"
    }
  },
  "cells": [
    {
      "cell_type": "markdown",
      "metadata": {
        "id": "view-in-github",
        "colab_type": "text"
      },
      "source": [
        "<a href=\"https://colab.research.google.com/github/AnuragBalasahebChumble/BasicAssignments/blob/main/PythonBasicAssignment4.ipynb\" target=\"_parent\"><img src=\"https://colab.research.google.com/assets/colab-badge.svg\" alt=\"Open In Colab\"/></a>"
      ]
    },
    {
      "cell_type": "markdown",
      "source": [
        "####Q1. What exactly is []?"
      ],
      "metadata": {
        "id": "16zpLEL9-eqp"
      }
    },
    {
      "cell_type": "code",
      "execution_count": null,
      "metadata": {
        "id": "58MTcJH7-VDf"
      },
      "outputs": [],
      "source": [
        "# [] it is called empty list\n",
        "\n",
        "lst = []"
      ]
    },
    {
      "cell_type": "markdown",
      "source": [
        "####Q2. In a list of values stored in a variable called spam, how would you assign the value hello' as the third value? (Assume [2, 4, 6, 8, 10] are in spam.)"
      ],
      "metadata": {
        "id": "C5-CGm-M-1mm"
      }
    },
    {
      "cell_type": "code",
      "source": [
        "spam = [2,4,6,8,10]\n",
        "spam[2] ='hello'"
      ],
      "metadata": {
        "id": "gvN0NNhI-wkJ"
      },
      "execution_count": null,
      "outputs": []
    },
    {
      "cell_type": "markdown",
      "source": [
        "##Lets pretend the spam includes the list ['a', 'b','c','d'] for the next three queries."
      ],
      "metadata": {
        "id": "qlfBer1Y_y-b"
      }
    },
    {
      "cell_type": "markdown",
      "source": [
        "####Q3. What is the value of spam[int(int(3 * 2) / 11)]?"
      ],
      "metadata": {
        "id": "Y5ucnlqv_ZI3"
      }
    },
    {
      "cell_type": "code",
      "source": [
        "spam = ['a','b','c','d']\n",
        "answer = spam[int(int(3 * 2) / 11)]\n",
        "print(answer)"
      ],
      "metadata": {
        "colab": {
          "base_uri": "https://localhost:8080/"
        },
        "id": "pjj-Co9J_TD5",
        "outputId": "40df72d2-1696-40a8-8ec2-d514c21d845c"
      },
      "execution_count": null,
      "outputs": [
        {
          "output_type": "stream",
          "name": "stdout",
          "text": [
            "a\n"
          ]
        }
      ]
    },
    {
      "cell_type": "markdown",
      "source": [
        "####Q4. What is the value of spam[-1]?"
      ],
      "metadata": {
        "id": "6gV9oJQJATW2"
      }
    },
    {
      "cell_type": "code",
      "source": [
        "answer = spam[-1]\n",
        "print(answer)"
      ],
      "metadata": {
        "colab": {
          "base_uri": "https://localhost:8080/"
        },
        "id": "BceVH3X1_nR3",
        "outputId": "66a6a95c-ebd3-4610-c1e5-21eb043125c1"
      },
      "execution_count": null,
      "outputs": [
        {
          "output_type": "stream",
          "name": "stdout",
          "text": [
            "d\n"
          ]
        }
      ]
    },
    {
      "cell_type": "markdown",
      "source": [
        "####Q5. What is the value of spam[:2]?"
      ],
      "metadata": {
        "id": "8gpv5jf8AfTp"
      }
    },
    {
      "cell_type": "code",
      "source": [
        "answer = spam[:2]\n",
        "print(answer)"
      ],
      "metadata": {
        "colab": {
          "base_uri": "https://localhost:8080/"
        },
        "id": "Ox2fI3xqAb_8",
        "outputId": "aeb4d54d-cf23-468f-b12c-055fca817702"
      },
      "execution_count": null,
      "outputs": [
        {
          "output_type": "stream",
          "name": "stdout",
          "text": [
            "['a', 'b']\n"
          ]
        }
      ]
    },
    {
      "cell_type": "markdown",
      "source": [
        "## Let's pretend bacon has the list [3.14, 'cat' 11, 'cat' True] for the next three questions"
      ],
      "metadata": {
        "id": "jfqywYU3AxpB"
      }
    },
    {
      "cell_type": "markdown",
      "source": [
        "##Q6. What is the value of bacon.index('cat')?"
      ],
      "metadata": {
        "id": "YzVrA9WHAolI"
      }
    },
    {
      "cell_type": "code",
      "source": [
        "bacon =  [3.14, 'cat', 11, 'cat', True]\n",
        "answer = bacon.index('cat')\n",
        "print(answer)"
      ],
      "metadata": {
        "colab": {
          "base_uri": "https://localhost:8080/"
        },
        "id": "lOh4DnVHAnL7",
        "outputId": "8b665b94-7934-4a91-96a3-bfc04dcec5ad"
      },
      "execution_count": null,
      "outputs": [
        {
          "output_type": "stream",
          "name": "stdout",
          "text": [
            "1\n"
          ]
        }
      ]
    },
    {
      "cell_type": "markdown",
      "source": [
        "####Q7. How does bacon.append(99) change the look of the list value in bacon?"
      ],
      "metadata": {
        "id": "7bYjHXS1BKX4"
      }
    },
    {
      "cell_type": "code",
      "source": [
        "bacon.append(99)\n",
        "print(bacon)"
      ],
      "metadata": {
        "colab": {
          "base_uri": "https://localhost:8080/"
        },
        "id": "0s9EefWYA91C",
        "outputId": "d88dfa00-2a9e-419a-efbb-0b492da61f02"
      },
      "execution_count": null,
      "outputs": [
        {
          "output_type": "stream",
          "name": "stdout",
          "text": [
            "[3.14, 'cat', 11, 'cat', True, 99]\n"
          ]
        }
      ]
    },
    {
      "cell_type": "markdown",
      "source": [
        "####Q8. How does bacon.remove(&#39;cat&#39;) change the look of the list in bacon?"
      ],
      "metadata": {
        "id": "ODPfDYm1Bn5h"
      }
    },
    {
      "cell_type": "code",
      "source": [
        "bacon.remove('cat')\n",
        "print(bacon)"
      ],
      "metadata": {
        "colab": {
          "base_uri": "https://localhost:8080/"
        },
        "id": "8WU4ada_BTQ6",
        "outputId": "5c6fa5bf-7f52-4484-cbc5-5a764ffa9176"
      },
      "execution_count": null,
      "outputs": [
        {
          "output_type": "stream",
          "name": "stdout",
          "text": [
            "[3.14, 11, 'cat', True, 99]\n"
          ]
        }
      ]
    },
    {
      "cell_type": "markdown",
      "source": [
        "#### Q9. What are the list concatenation and list replication operators?\n",
        "\n",
        "Ans ( * ) is list replication operator ( + ) is list concatination operator"
      ],
      "metadata": {
        "id": "KUj3bu5ACYHN"
      }
    },
    {
      "cell_type": "code",
      "source": [
        "l1 = [1,4]\n",
        "l2 = [2,5]\n",
        "# list concatination\n",
        "print(l1+l2)"
      ],
      "metadata": {
        "colab": {
          "base_uri": "https://localhost:8080/"
        },
        "id": "cAogV0jtB2Ww",
        "outputId": "54a551e0-c6ad-4165-8457-2544712c8ca8"
      },
      "execution_count": null,
      "outputs": [
        {
          "output_type": "stream",
          "name": "stdout",
          "text": [
            "[1, 4, 2, 5]\n"
          ]
        }
      ]
    },
    {
      "cell_type": "code",
      "source": [
        "l1 = [7,4]\n",
        "\n",
        "# list replication\n",
        "l1*3"
      ],
      "metadata": {
        "colab": {
          "base_uri": "https://localhost:8080/"
        },
        "id": "Kpfujp2QCwQl",
        "outputId": "7e01de02-1848-47ad-af7d-a28ed1172795"
      },
      "execution_count": null,
      "outputs": [
        {
          "output_type": "execute_result",
          "data": {
            "text/plain": [
              "[7, 4, 7, 4, 7, 4]"
            ]
          },
          "metadata": {},
          "execution_count": 21
        }
      ]
    },
    {
      "cell_type": "markdown",
      "source": [
        "####Q10. What is difference between the list methods append() and insert()?\n",
        "\n",
        "Ans append() Appends object to the end of the list & \n",
        "insert() Insert object before provided index value."
      ],
      "metadata": {
        "id": "TOuJDdxyC6qi"
      }
    },
    {
      "cell_type": "code",
      "source": [
        "bacon = [3.14, 'cat', 11, 'cat', True]\n",
        "bacon.append(99) # append adds the item at the end of the list\n",
        "print(bacon)\n",
        "     "
      ],
      "metadata": {
        "colab": {
          "base_uri": "https://localhost:8080/"
        },
        "id": "tThIkfD8C0U9",
        "outputId": "14a940a9-8b8d-487e-96ae-ca083a59d91f"
      },
      "execution_count": null,
      "outputs": [
        {
          "output_type": "stream",
          "name": "stdout",
          "text": [
            "[3.14, 'cat', 11, 'cat', True, 99]\n"
          ]
        }
      ]
    },
    {
      "cell_type": "code",
      "source": [
        "# solution by inserting value in 3rd index\n",
        "spam = [2, 4, 6, 8, 10]\n",
        "spam.insert(2,'hello')\n",
        "print(spam)"
      ],
      "metadata": {
        "colab": {
          "base_uri": "https://localhost:8080/"
        },
        "id": "f6_DlSweFwns",
        "outputId": "4c492c49-7b1d-49bf-eafa-f856c1055d7b"
      },
      "execution_count": null,
      "outputs": [
        {
          "output_type": "stream",
          "name": "stdout",
          "text": [
            "[2, 4, 'hello', 6, 8, 10]\n"
          ]
        }
      ]
    },
    {
      "cell_type": "markdown",
      "source": [
        "####Q11.What are the two methods for removing items from a list?\n",
        "Ans i)remove(), ii)pop()"
      ],
      "metadata": {
        "id": "uOv6oE3LF4ds"
      }
    },
    {
      "cell_type": "code",
      "source": [
        "#remove(item) - removeds first occurence of a item\n",
        "bacon = [3.14, 'cat', 11, 'cat', True]\n",
        "bacon.remove('cat')\n",
        "bacon"
      ],
      "metadata": {
        "colab": {
          "base_uri": "https://localhost:8080/"
        },
        "id": "PsWsgYW5F1qT",
        "outputId": "60557689-b904-4c7f-f5ef-52ded27fd306"
      },
      "execution_count": null,
      "outputs": [
        {
          "output_type": "execute_result",
          "data": {
            "text/plain": [
              "[3.14, 11, 'cat', True]"
            ]
          },
          "metadata": {},
          "execution_count": 26
        }
      ]
    },
    {
      "cell_type": "code",
      "source": [
        "\n",
        "#pop() - Remove and returns item at index (default last).\n",
        "bacon = [3.14, 'cat', 11, 'cat', True]\n",
        "bacon.pop()\n",
        "bacon"
      ],
      "metadata": {
        "colab": {
          "base_uri": "https://localhost:8080/"
        },
        "id": "-pvURrxhGDZL",
        "outputId": "08a9df3d-7066-4ee1-ef9d-e8da4dd96073"
      },
      "execution_count": null,
      "outputs": [
        {
          "output_type": "execute_result",
          "data": {
            "text/plain": [
              "[3.14, 'cat', 11, 'cat']"
            ]
          },
          "metadata": {},
          "execution_count": 27
        }
      ]
    },
    {
      "cell_type": "markdown",
      "source": [
        "Q12. Describe how list values and string values are identical.\n",
        "1.   Both lists and strings can be passed to len()\n",
        "2. Have indexes and slices\n",
        "3. Can be used in for loops\n",
        "4. Can be concatenated or replicated\n",
        "5. Can be used with the in and not in operators"
      ],
      "metadata": {
        "id": "xXkz7dBFJNTA"
      }
    },
    {
      "cell_type": "markdown",
      "source": [
        "####Q13. What's the difference between tuples and lists?\n",
        "\n",
        "- Lists : are mutable - they can have values added, removed, or changed. lists use the square brackets [].\n",
        "- Tuples : are immutable, they cannot be changed at all. Tuples are created using parentheses ()"
      ],
      "metadata": {
        "id": "JVywRNqqJumV"
      }
    },
    {
      "cell_type": "markdown",
      "source": [
        "####Q14. How do you type a tuple value that only contains the integer 42?"
      ],
      "metadata": {
        "id": "JS9BxxIIKUFt"
      }
    },
    {
      "cell_type": "code",
      "source": [
        "tup = (42,)\n",
        "type(tup)\n",
        "     "
      ],
      "metadata": {
        "colab": {
          "base_uri": "https://localhost:8080/"
        },
        "id": "tEeF66rJGG3L",
        "outputId": "e0096436-693b-410d-bf4c-309ec1767abd"
      },
      "execution_count": null,
      "outputs": [
        {
          "output_type": "execute_result",
          "data": {
            "text/plain": [
              "tuple"
            ]
          },
          "metadata": {},
          "execution_count": 32
        }
      ]
    },
    {
      "cell_type": "markdown",
      "source": [
        "####Q15. How do you get a list value's tuple form? How do you get a tuple value's list form?"
      ],
      "metadata": {
        "id": "aIHHghInLEka"
      }
    },
    {
      "cell_type": "code",
      "source": [
        "# tuple to list\n",
        "t1 = (3,4)\n",
        "t = list(t1)\n",
        "print(t)\n"
      ],
      "metadata": {
        "colab": {
          "base_uri": "https://localhost:8080/"
        },
        "id": "ARedRptGK_Oh",
        "outputId": "7c854f46-4ae4-4236-cf1f-093854b2be5e"
      },
      "execution_count": null,
      "outputs": [
        {
          "output_type": "stream",
          "name": "stdout",
          "text": [
            "[3, 4]\n"
          ]
        }
      ]
    },
    {
      "cell_type": "code",
      "source": [
        "# list to tuple\n",
        "l1 = [2,3]\n",
        "l = tuple(l1) #This is called type casting."
      ],
      "metadata": {
        "id": "uXsgXDnDLNWD"
      },
      "execution_count": null,
      "outputs": []
    },
    {
      "cell_type": "markdown",
      "source": [
        "####Q16. Variables that \"contain\" list values are not necessarily lists themselves. Instead, what do they contain?\n",
        "\n",
        "Ans .  They contain references to list values"
      ],
      "metadata": {
        "id": "WU7aK24FM1Kp"
      }
    },
    {
      "cell_type": "markdown",
      "source": [
        "#### Q17. How do you distinguish between copy.copy() and copy.deepcopy()?\n",
        "\n",
        "Ans . The copy.copy() function will do a shallow copy of a list,\n",
        "The copy.deepcopy() function will do a deep copy of a list. only copy.deepcopy() will duplicate any lists inside the list"
      ],
      "metadata": {
        "id": "Djz5gggsNFFk"
      }
    },
    {
      "cell_type": "code",
      "source": [],
      "metadata": {
        "id": "fMeZKAT6Mj3P"
      },
      "execution_count": null,
      "outputs": []
    }
  ]
}