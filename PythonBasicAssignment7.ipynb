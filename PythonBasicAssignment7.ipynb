{
  "nbformat": 4,
  "nbformat_minor": 0,
  "metadata": {
    "colab": {
      "provenance": [],
      "authorship_tag": "ABX9TyPJVb9DUCnuaZA5i9xz5w42",
      "include_colab_link": true
    },
    "kernelspec": {
      "name": "python3",
      "display_name": "Python 3"
    },
    "language_info": {
      "name": "python"
    }
  },
  "cells": [
    {
      "cell_type": "markdown",
      "metadata": {
        "id": "view-in-github",
        "colab_type": "text"
      },
      "source": [
        "<a href=\"https://colab.research.google.com/github/AnuragBalasahebChumble/BasicAssignments/blob/main/PythonBasicAssignment7.ipynb\" target=\"_parent\"><img src=\"https://colab.research.google.com/assets/colab-badge.svg\" alt=\"Open In Colab\"/></a>"
      ]
    },
    {
      "cell_type": "markdown",
      "source": [
        "Q.1. Create two int type variables, apply addition, subtraction, division and multiplications and store the results in variables. Then print the data in the following format by calling the variables:\n",
        "1. First variable is __ & second variable is __.\n",
        "2. Addition: __ + __ = __\n",
        "3. Subtraction: __ - __ = __\n",
        "4. Multiplication: __ * __ = __\n",
        "5. Division: __ / __ = __"
      ],
      "metadata": {
        "id": "ssUDx_P9Ul6T"
      }
    },
    {
      "cell_type": "code",
      "execution_count": 4,
      "metadata": {
        "colab": {
          "base_uri": "https://localhost:8080/"
        },
        "id": "zeERpLFwQZav",
        "outputId": "d4d73939-cf79-4545-bb55-d39a5c1ae22a"
      },
      "outputs": [
        {
          "output_type": "stream",
          "name": "stdout",
          "text": [
            "First variable is 1 & second variable is 2.\n",
            "Addition: 1 + 2 = 3\n",
            "Subtraction: 1 - 2 = -1\n",
            "Multiplication: 1 * 2 = 2\n",
            "Division: 1 / 2 = 0.5\n"
          ]
        }
      ],
      "source": [
        "a = 1\n",
        "b = 2\n",
        "print(f\"First variable is {a} & second variable is {b}.\")\n",
        "print(f\"Addition: {a} + {b} = {a+b}\")\n",
        "print(f\"Subtraction: {a} - {b} = {a - b}\")\n",
        "print(f\"Multiplication: {a} * {b} = {a*b}\")\n",
        "print(f\"Division: {a} / {b} = {a/b}\")\n"
      ]
    },
    {
      "cell_type": "markdown",
      "source": [
        "Q.2. What is the difference between the following operators:\n",
        "1. Difference between '/' and '//':\n",
        "\n",
        "- The '/' operator is used for division in Python and returns the result as a floating-point number (float). For example, 10 / 3 would result in 3.3333333333333335.\n",
        "- The '//' operator is used for floor division (also known as integer division) in Python. It returns the result as an integer by discarding the decimal part of the division. For example, 10 // 3 would result in 3.\n",
        "\n",
        "2. Difference between '**' and '^':\n",
        "\n",
        "- The '**' operator is used for exponentiation in Python. It raises the left operand to the power of the right operand. For example, 2 ** 3 would result in 8, as 2 raised to the power of 3 is 8.\n",
        "- The '^' operator is not used for exponentiation in Python. Instead, it is the bitwise XOR operator. It performs bitwise XOR operation on the binary representation of the operands."
      ],
      "metadata": {
        "id": "I33fk5DHV7jS"
      }
    },
    {
      "cell_type": "code",
      "source": [
        "result1 = 2 ** 3\n",
        "result2 = 2 ^ 3\n",
        "print(result1)  # Output: 8\n",
        "print(result2)  # Output: 1 (bitwise XOR of 10 and 11 in binary)"
      ],
      "metadata": {
        "colab": {
          "base_uri": "https://localhost:8080/"
        },
        "id": "095VA_BwVWeD",
        "outputId": "40ac5227-526e-4ec6-8b18-75c47cc4d3e8"
      },
      "execution_count": 5,
      "outputs": [
        {
          "output_type": "stream",
          "name": "stdout",
          "text": [
            "8\n",
            "1\n"
          ]
        }
      ]
    },
    {
      "cell_type": "markdown",
      "source": [
        "Q.3. List the logical operators.\n",
        "\n",
        "1. and: The and operator returns True if both operands are True, otherwise it returns False. It performs a logical conjunction.\n",
        "\n",
        "2. or: The or operator returns True if at least one of the operands is True, otherwise it returns False. It performs a logical disjunction.\n",
        "\n",
        "3. not: The not operator is a unary operator that negates the truth value of its operand. It returns True if the operand is False, and False if the operand is True.\n",
        "\n",
        "4. These logical operators are commonly used to combine or manipulate boolean values and expressions in conditional statements and boolean logic operations."
      ],
      "metadata": {
        "id": "emWc-Pz3W2-e"
      }
    },
    {
      "cell_type": "markdown",
      "source": [
        "Q.4. Explain right shift operator and left shift operator with examples."
      ],
      "metadata": {
        "id": "YnLUm_klXcxi"
      }
    },
    {
      "cell_type": "code",
      "source": [
        "# Right shift operator (>>)\n",
        "num = 10  # Binary: 1010\n",
        "\n",
        "# Right shift by 1 position\n",
        "result = num >> 1  # Binary: 0101 = 5\n",
        "print(result)  # Output: 5\n",
        "\n",
        "# Right shift by 2 positions\n",
        "result = num >> 2  # Binary: 0010 = 2\n",
        "print(result)  # Output: 2\n",
        "\n",
        "\n",
        "# Left shift operator (<<)\n",
        "num = 10  # Binary: 1010\n",
        "\n",
        "# Left shift by 1 position\n",
        "result = num << 1  # Binary: 10100 = 20\n",
        "print(result)  # Output: 20\n",
        "\n",
        "# Left shift by 2 positions\n",
        "result = num << 2  # Binary: 101000 = 40\n",
        "print(result)  # Output: 40"
      ],
      "metadata": {
        "colab": {
          "base_uri": "https://localhost:8080/"
        },
        "id": "7GcvQJ0sWqDp",
        "outputId": "0e0dcfd0-f78b-4104-93da-ee619a305a06"
      },
      "execution_count": 6,
      "outputs": [
        {
          "output_type": "stream",
          "name": "stdout",
          "text": [
            "5\n",
            "2\n",
            "20\n",
            "40\n"
          ]
        }
      ]
    },
    {
      "cell_type": "markdown",
      "source": [
        "- In the above examples, we start with the number 10 (binary: 1010). Applying the right shift operator (>>) by 1 position shifts the bits towards the right, resulting in 5 (binary: 0101). Shifting by 2 positions gives us 2 (binary: 0010).\n",
        "\n",
        "- Similarly, when we use the left shift operator (<<), shifting by 1 position towards the left gives us 20 (binary: 10100), and shifting by 2 positions gives us 40 (binary: 101000).\n",
        "\n",
        "- These operators are useful for manipulating binary representations of numbers and performing efficient operations on individual bits or groups of bits within a number."
      ],
      "metadata": {
        "id": "wW05vpcjXosJ"
      }
    },
    {
      "cell_type": "markdown",
      "source": [
        "Q.5. Create a list containing int type data of length 15. Then write a code to check if 10 is present in the list or not."
      ],
      "metadata": {
        "id": "hqr1Bts7Xubp"
      }
    },
    {
      "cell_type": "code",
      "source": [
        "lst = [1,2,3,11,12,11,11]\n",
        "counter = 0 \n",
        "print(f\"length of list is {len(lst)}\")\n",
        "print()\n",
        "for i in lst:\n",
        "  counter += 1\n",
        "  if i == 10:\n",
        "    print(\"10 is present\")\n",
        "    break\n",
        "  if counter == (len(lst)):\n",
        "    print(\"10 is not present\")"
      ],
      "metadata": {
        "colab": {
          "base_uri": "https://localhost:8080/"
        },
        "id": "gtpkthodXiVE",
        "outputId": "0268f684-fc06-421d-9f2c-a5c376978084"
      },
      "execution_count": 53,
      "outputs": [
        {
          "output_type": "stream",
          "name": "stdout",
          "text": [
            "length of list is 7\n",
            "\n",
            "10 is not present\n"
          ]
        }
      ]
    },
    {
      "cell_type": "code",
      "source": [
        "\n",
        "  "
      ],
      "metadata": {
        "id": "xDX_IkJ-X-j0"
      },
      "execution_count": 53,
      "outputs": []
    },
    {
      "cell_type": "code",
      "source": [],
      "metadata": {
        "id": "S3hL4P2RgUY8"
      },
      "execution_count": null,
      "outputs": []
    }
  ]
}